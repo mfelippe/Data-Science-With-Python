{
  "nbformat": 4,
  "nbformat_minor": 0,
  "metadata": {
    "colab": {
      "name": "Date_With_python.ipynb",
      "provenance": [],
      "collapsed_sections": [],
      "mount_file_id": "1k-WRgLZXbhuPIaEO7hlILBXDhrUfXvwq",
      "authorship_tag": "ABX9TyMe6rD76t3Q8hoCMlyDiSuE",
      "include_colab_link": true
    },
    "kernelspec": {
      "name": "python3",
      "display_name": "Python 3"
    },
    "language_info": {
      "name": "python"
    }
  },
  "cells": [
    {
      "cell_type": "markdown",
      "metadata": {
        "id": "view-in-github",
        "colab_type": "text"
      },
      "source": [
        "<a href=\"https://colab.research.google.com/github/mfelippe/Data-Science-With-Python/blob/main/Date_With_python.ipynb\" target=\"_parent\"><img src=\"https://colab.research.google.com/assets/colab-badge.svg\" alt=\"Open In Colab\"/></a>"
      ]
    },
    {
      "cell_type": "code",
      "metadata": {
        "id": "qYmXJ6tLRnAP",
        "colab": {
          "base_uri": "https://localhost:8080/"
        },
        "outputId": "47876221-1170-4b7b-f112-3cc4ee12c202"
      },
      "source": [
        "\n",
        "import numpy as np\n",
        "import pandas as pd\n",
        "from google.colab import drive #acesso ao google drive para ler os arquivos csv\n",
        "drive.mount('/content/drive')\n",
        "import matplotlib.pyplot as plt\n"
      ],
      "execution_count": 3,
      "outputs": [
        {
          "output_type": "stream",
          "text": [
            "Drive already mounted at /content/drive; to attempt to forcibly remount, call drive.mount(\"/content/drive\", force_remount=True).\n"
          ],
          "name": "stdout"
        }
      ]
    },
    {
      "cell_type": "code",
      "metadata": {
        "id": "VvDGsySCSPhb"
      },
      "source": [
        "#importando arquivo no drive para ser analisado\n",
        "patch='/content/drive/MyDrive/Colab Notebooks/dats/dados-abertos.csv' #endereço do arquivo no google drive\n",
        "dados_bsb = pd.read_csv(patch, sep=';')\n",
        "                     \n"
      ],
      "execution_count": 4,
      "outputs": []
    },
    {
      "cell_type": "code",
      "metadata": {
        "colab": {
          "base_uri": "https://localhost:8080/",
          "height": 326
        },
        "id": "tkU3HEfhT0-I",
        "outputId": "04ddcf48-3b5e-4a83-bbdb-26c430eb5ec5"
      },
      "source": [
        "dados_bsb.head() #teste mostrando os 5 primeiros dados"
      ],
      "execution_count": 6,
      "outputs": [
        {
          "output_type": "execute_result",
          "data": {
            "text/html": [
              "<div>\n",
              "<style scoped>\n",
              "    .dataframe tbody tr th:only-of-type {\n",
              "        vertical-align: middle;\n",
              "    }\n",
              "\n",
              "    .dataframe tbody tr th {\n",
              "        vertical-align: top;\n",
              "    }\n",
              "\n",
              "    .dataframe thead th {\n",
              "        text-align: right;\n",
              "    }\n",
              "</style>\n",
              "<table border=\"1\" class=\"dataframe\">\n",
              "  <thead>\n",
              "    <tr style=\"text-align: right;\">\n",
              "      <th></th>\n",
              "      <th>Data</th>\n",
              "      <th>Data Cadastro</th>\n",
              "      <th>Sexo</th>\n",
              "      <th>Faixa Etária</th>\n",
              "      <th>RA</th>\n",
              "      <th>UF</th>\n",
              "      <th>Óbito</th>\n",
              "      <th>dataPrimeirosintomas</th>\n",
              "      <th>Idade</th>\n",
              "      <th>Pneumopatia</th>\n",
              "      <th>Nefropatia</th>\n",
              "      <th>Doença Hematológica</th>\n",
              "      <th>Distúrbios Metabólicos</th>\n",
              "      <th>Imunopressão</th>\n",
              "      <th>Obesidade</th>\n",
              "      <th>Outros</th>\n",
              "      <th>Cardiovasculopatia</th>\n",
              "    </tr>\n",
              "  </thead>\n",
              "  <tbody>\n",
              "    <tr>\n",
              "      <th>0</th>\n",
              "      <td>16/05/2021</td>\n",
              "      <td>2020-03-18</td>\n",
              "      <td>Masculino</td>\n",
              "      <td>50 a 59 anos</td>\n",
              "      <td>Plano Piloto</td>\n",
              "      <td>DISTRITO FEDERAL</td>\n",
              "      <td>Não</td>\n",
              "      <td>23/04/2020</td>\n",
              "      <td>54</td>\n",
              "      <td>NaN</td>\n",
              "      <td>NaN</td>\n",
              "      <td>NaN</td>\n",
              "      <td>NaN</td>\n",
              "      <td>NaN</td>\n",
              "      <td>NaN</td>\n",
              "      <td>NaN</td>\n",
              "      <td>NaN</td>\n",
              "    </tr>\n",
              "    <tr>\n",
              "      <th>1</th>\n",
              "      <td>16/05/2021</td>\n",
              "      <td>2020-03-18</td>\n",
              "      <td>Masculino</td>\n",
              "      <td>50 a 59 anos</td>\n",
              "      <td>Plano Piloto</td>\n",
              "      <td>DISTRITO FEDERAL</td>\n",
              "      <td>Não</td>\n",
              "      <td>03/08/2020</td>\n",
              "      <td>51</td>\n",
              "      <td>NaN</td>\n",
              "      <td>NaN</td>\n",
              "      <td>NaN</td>\n",
              "      <td>NaN</td>\n",
              "      <td>NaN</td>\n",
              "      <td>NaN</td>\n",
              "      <td>NaN</td>\n",
              "      <td>NaN</td>\n",
              "    </tr>\n",
              "    <tr>\n",
              "      <th>2</th>\n",
              "      <td>16/05/2021</td>\n",
              "      <td>2020-03-18</td>\n",
              "      <td>Masculino</td>\n",
              "      <td>40 a 49 anos</td>\n",
              "      <td>Lago Sul</td>\n",
              "      <td>DISTRITO FEDERAL</td>\n",
              "      <td>Não</td>\n",
              "      <td>09/03/2020</td>\n",
              "      <td>46</td>\n",
              "      <td>NaN</td>\n",
              "      <td>NaN</td>\n",
              "      <td>NaN</td>\n",
              "      <td>NaN</td>\n",
              "      <td>NaN</td>\n",
              "      <td>NaN</td>\n",
              "      <td>NaN</td>\n",
              "      <td>NaN</td>\n",
              "    </tr>\n",
              "    <tr>\n",
              "      <th>3</th>\n",
              "      <td>16/05/2021</td>\n",
              "      <td>2020-03-18</td>\n",
              "      <td>Masculino</td>\n",
              "      <td>&gt;= 60 anos</td>\n",
              "      <td>Águas Claras</td>\n",
              "      <td>DISTRITO FEDERAL</td>\n",
              "      <td>Não</td>\n",
              "      <td>14/03/2020</td>\n",
              "      <td>63</td>\n",
              "      <td>NaN</td>\n",
              "      <td>NaN</td>\n",
              "      <td>NaN</td>\n",
              "      <td>Sim</td>\n",
              "      <td>NaN</td>\n",
              "      <td>NaN</td>\n",
              "      <td>NaN</td>\n",
              "      <td>Sim</td>\n",
              "    </tr>\n",
              "    <tr>\n",
              "      <th>4</th>\n",
              "      <td>16/05/2021</td>\n",
              "      <td>2020-03-18</td>\n",
              "      <td>Feminino</td>\n",
              "      <td>20 a 29 anos</td>\n",
              "      <td>Plano Piloto</td>\n",
              "      <td>DISTRITO FEDERAL</td>\n",
              "      <td>Não</td>\n",
              "      <td>14/03/2020</td>\n",
              "      <td>29</td>\n",
              "      <td>NaN</td>\n",
              "      <td>NaN</td>\n",
              "      <td>NaN</td>\n",
              "      <td>NaN</td>\n",
              "      <td>NaN</td>\n",
              "      <td>NaN</td>\n",
              "      <td>NaN</td>\n",
              "      <td>NaN</td>\n",
              "    </tr>\n",
              "  </tbody>\n",
              "</table>\n",
              "</div>"
            ],
            "text/plain": [
              "         Data Data Cadastro       Sexo  ... Obesidade Outros Cardiovasculopatia\n",
              "0  16/05/2021    2020-03-18  Masculino  ...       NaN    NaN                NaN\n",
              "1  16/05/2021    2020-03-18  Masculino  ...       NaN    NaN                NaN\n",
              "2  16/05/2021    2020-03-18  Masculino  ...       NaN    NaN                NaN\n",
              "3  16/05/2021    2020-03-18  Masculino  ...       NaN    NaN                Sim\n",
              "4  16/05/2021    2020-03-18   Feminino  ...       NaN    NaN                NaN\n",
              "\n",
              "[5 rows x 17 columns]"
            ]
          },
          "metadata": {
            "tags": []
          },
          "execution_count": 6
        }
      ]
    },
    {
      "cell_type": "code",
      "metadata": {
        "id": "suUTvr0snEr5",
        "colab": {
          "base_uri": "https://localhost:8080/"
        },
        "outputId": "656f4fe7-8ac2-4900-e220-58c054b9a5c2"
      },
      "source": [
        "dados_bsb.dtypes"
      ],
      "execution_count": 9,
      "outputs": [
        {
          "output_type": "execute_result",
          "data": {
            "text/plain": [
              "Data                      object\n",
              "Data Cadastro             object\n",
              "Sexo                      object\n",
              "Faixa Etária              object\n",
              "RA                        object\n",
              "UF                        object\n",
              "Óbito                     object\n",
              "dataPrimeirosintomas      object\n",
              "Idade                      int64\n",
              "Pneumopatia               object\n",
              "Nefropatia                object\n",
              "Doença Hematológica       object\n",
              "Distúrbios Metabólicos    object\n",
              "Imunopressão              object\n",
              "Obesidade                 object\n",
              "Outros                    object\n",
              "Cardiovasculopatia        object\n",
              "dtype: object"
            ]
          },
          "metadata": {
            "tags": []
          },
          "execution_count": 9
        }
      ]
    },
    {
      "cell_type": "code",
      "metadata": {
        "colab": {
          "base_uri": "https://localhost:8080/"
        },
        "id": "d4f4_XYJPAI_",
        "outputId": "b4787696-654f-472b-955c-4c1a70a5433f"
      },
      "source": [
        "#verificação de valores nulos\n",
        "dados_bsb.isnull().sum()/dados_bsb.shape[0]"
      ],
      "execution_count": 10,
      "outputs": [
        {
          "output_type": "execute_result",
          "data": {
            "text/plain": [
              "Data                      0.000000\n",
              "Data Cadastro             0.000130\n",
              "Sexo                      0.000000\n",
              "Faixa Etária              0.000000\n",
              "RA                        0.039683\n",
              "UF                        0.043285\n",
              "Óbito                     0.000000\n",
              "dataPrimeirosintomas      0.000000\n",
              "Idade                     0.000000\n",
              "Pneumopatia               0.985830\n",
              "Nefropatia                0.994057\n",
              "Doença Hematológica       0.997063\n",
              "Distúrbios Metabólicos    0.971565\n",
              "Imunopressão              0.992542\n",
              "Obesidade                 0.990476\n",
              "Outros                    0.992585\n",
              "Cardiovasculopatia        0.956638\n",
              "dtype: float64"
            ]
          },
          "metadata": {
            "tags": []
          },
          "execution_count": 10
        }
      ]
    },
    {
      "cell_type": "code",
      "metadata": {
        "colab": {
          "base_uri": "https://localhost:8080/"
        },
        "id": "VMn5kUxqQCeb",
        "outputId": "1feadd93-0ecc-4a9d-d7f1-befe80dcab84"
      },
      "source": [
        "# quantidade de  óbitos\n",
        "dados_bsb['Óbito'].value_counts()"
      ],
      "execution_count": 12,
      "outputs": [
        {
          "output_type": "execute_result",
          "data": {
            "text/plain": [
              "Não    384265\n",
              "Sim      8317\n",
              "Name: Óbito, dtype: int64"
            ]
          },
          "metadata": {
            "tags": []
          },
          "execution_count": 12
        }
      ]
    },
    {
      "cell_type": "code",
      "metadata": {
        "id": "zSLhZyKXSaDP"
      },
      "source": [
        ""
      ],
      "execution_count": 12,
      "outputs": []
    }
  ]
}